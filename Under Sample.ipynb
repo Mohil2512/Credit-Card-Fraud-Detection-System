{
 "cells": [
  {
   "cell_type": "code",
   "execution_count": 1,
   "id": "144df935",
   "metadata": {},
   "outputs": [],
   "source": [
    "import pandas as pd\n",
    "from imblearn.under_sampling import RandomUnderSampler"
   ]
  },
  {
   "cell_type": "code",
   "execution_count": 2,
   "id": "ee87d04d",
   "metadata": {},
   "outputs": [],
   "source": [
    "df = pd.read_csv(\"creditcardu.csv\")"
   ]
  },
  {
   "cell_type": "code",
   "execution_count": 3,
   "id": "8c974ac1",
   "metadata": {},
   "outputs": [],
   "source": [
    "# Assuming you have a DataFrame `df` with a column 'Class' containing 0 for valid and 1 for fraud\n",
    "# Replace 'df' and 'Your_Class_Column_Name' with your actual data and column name\n",
    "\n",
    "# Create your feature matrix X and target variable y\n",
    "X = df.drop('Class', axis=1)\n",
    "y = df['Class']"
   ]
  },
  {
   "cell_type": "code",
   "execution_count": 4,
   "id": "88468a0f",
   "metadata": {},
   "outputs": [],
   "source": [
    "# Perform Undersampling\n",
    "undersampler = RandomUnderSampler(sampling_strategy='majority')\n",
    "X_undersampled, y_undersampled = undersampler.fit_resample(X, y)"
   ]
  },
  {
   "cell_type": "code",
   "execution_count": 7,
   "id": "8f3dc81e",
   "metadata": {},
   "outputs": [],
   "source": [
    "# Create a DataFrame for the undersampled data\n",
    "undersampled_data = pd.DataFrame(X_undersampled, columns=df.columns.drop('Class'))\n",
    "undersampled_data['Class'] = y_undersampled"
   ]
  },
  {
   "cell_type": "code",
   "execution_count": 9,
   "id": "72c8aee0",
   "metadata": {},
   "outputs": [],
   "source": [
    "# Get counts of each class in the undersampled dataset\n",
    "undersampled_class_counts = undersampled_data['Class'].value_counts()\n"
   ]
  },
  {
   "cell_type": "code",
   "execution_count": 10,
   "id": "31a89b68",
   "metadata": {},
   "outputs": [
    {
     "name": "stdout",
     "output_type": "stream",
     "text": [
      "Class Counts in Undersampled Data:\n",
      "Class\n",
      "0    492\n",
      "1    492\n",
      "Name: count, dtype: int64\n"
     ]
    }
   ],
   "source": [
    "# Print class counts in undersampled data\n",
    "print(\"Class Counts in Undersampled Data:\")\n",
    "print(undersampled_class_counts)"
   ]
  },
  {
   "cell_type": "code",
   "execution_count": null,
   "id": "d2dcd40a",
   "metadata": {},
   "outputs": [],
   "source": []
  }
 ],
 "metadata": {
  "kernelspec": {
   "display_name": "Python 3 (ipykernel)",
   "language": "python",
   "name": "python3"
  },
  "language_info": {
   "codemirror_mode": {
    "name": "ipython",
    "version": 3
   },
   "file_extension": ".py",
   "mimetype": "text/x-python",
   "name": "python",
   "nbconvert_exporter": "python",
   "pygments_lexer": "ipython3",
   "version": "3.11.5"
  }
 },
 "nbformat": 4,
 "nbformat_minor": 5
}
