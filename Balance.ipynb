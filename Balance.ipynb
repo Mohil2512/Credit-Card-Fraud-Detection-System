{
 "cells": [
  {
   "cell_type": "code",
   "execution_count": 1,
   "id": "9d805ac1",
   "metadata": {},
   "outputs": [],
   "source": [
    "import pandas as pd\n",
    "from imblearn.over_sampling import RandomOverSampler"
   ]
  },
  {
   "cell_type": "code",
   "execution_count": 2,
   "id": "1ae8250e",
   "metadata": {},
   "outputs": [],
   "source": [
    "df = pd.read_csv(\"creditcardb.csv\")"
   ]
  },
  {
   "cell_type": "code",
   "execution_count": 3,
   "id": "6e43e904",
   "metadata": {},
   "outputs": [],
   "source": [
    "# Assuming you have a DataFrame `df` with a column 'Class' containing 0 for valid and 1 for fraud\n",
    "# Replace 'df' and 'Your_Class_Column_Name' with your actual data and column name\n",
    "\n",
    "# Create your feature matrix X and target variable y\n",
    "X = df.drop('Class', axis=1)\n",
    "y = df['Class']"
   ]
  },
  {
   "cell_type": "code",
   "execution_count": 4,
   "id": "f9f08ac3",
   "metadata": {},
   "outputs": [],
   "source": [
    "# Perform Oversampling\n",
    "oversampler = RandomOverSampler(sampling_strategy='auto')\n",
    "X_oversampled, y_oversampled = oversampler.fit_resample(X, y)"
   ]
  },
  {
   "cell_type": "code",
   "execution_count": 5,
   "id": "b11a6fc7",
   "metadata": {},
   "outputs": [],
   "source": [
    "# Create a DataFrame for the oversampled data\n",
    "oversampled_data = pd.DataFrame(X_oversampled, columns=df.columns.drop('Class'))\n",
    "oversampled_data['Class'] = y_oversampled"
   ]
  },
  {
   "cell_type": "code",
   "execution_count": 6,
   "id": "c440c8bd",
   "metadata": {},
   "outputs": [],
   "source": [
    "# Get counts of each class in the oversampled dataset\n",
    "oversampled_class_counts = oversampled_data['Class'].value_counts()"
   ]
  },
  {
   "cell_type": "code",
   "execution_count": 7,
   "id": "867c03ca",
   "metadata": {},
   "outputs": [
    {
     "name": "stdout",
     "output_type": "stream",
     "text": [
      "Class Counts in Oversampled Data:\n",
      "Class\n",
      "0    284315\n",
      "1    284315\n",
      "Name: count, dtype: int64\n"
     ]
    }
   ],
   "source": [
    "# Print class counts in oversampled data\n",
    "print(\"Class Counts in Oversampled Data:\")\n",
    "print(oversampled_class_counts)"
   ]
  },
  {
   "cell_type": "code",
   "execution_count": null,
   "id": "c8565259",
   "metadata": {},
   "outputs": [],
   "source": []
  }
 ],
 "metadata": {
  "kernelspec": {
   "display_name": "Python 3 (ipykernel)",
   "language": "python",
   "name": "python3"
  },
  "language_info": {
   "codemirror_mode": {
    "name": "ipython",
    "version": 3
   },
   "file_extension": ".py",
   "mimetype": "text/x-python",
   "name": "python",
   "nbconvert_exporter": "python",
   "pygments_lexer": "ipython3",
   "version": "3.11.5"
  }
 },
 "nbformat": 4,
 "nbformat_minor": 5
}
